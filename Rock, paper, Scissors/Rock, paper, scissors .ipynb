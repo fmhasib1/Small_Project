{
 "cells": [
  {
   "cell_type": "markdown",
   "id": "65927bcc-f537-4374-9846-971c5e5e0715",
   "metadata": {},
   "source": [
    "# Rock paper scissors game."
   ]
  },
  {
   "cell_type": "markdown",
   "id": "89ff5bb5-5ff7-4746-bbdb-bec864df5f86",
   "metadata": {},
   "source": [
    "We are trying to create a rock ppaer scissors game"
   ]
  },
  {
   "cell_type": "code",
   "execution_count": 4,
   "id": "aa600385-dea6-4205-bc7c-96996e0d4f76",
   "metadata": {},
   "outputs": [
    {
     "name": "stdin",
     "output_type": "stream",
     "text": [
      "What do you choose? Type 0 for Rock, 1 for Paper or 2 for Scissors. 1\n"
     ]
    },
    {
     "name": "stdout",
     "output_type": "stream",
     "text": [
      "\n",
      "    _______\n",
      "---'   ____)____\n",
      "          ______)\n",
      "          _______)\n",
      "         _______)\n",
      "---.__________)\n",
      "\n",
      "computer chose:\n",
      "\n",
      "    _______\n",
      "---'   ____)\n",
      "      (_____)\n",
      "      (_____)\n",
      "      (____)\n",
      "---.__(___)\n",
      "\n",
      "you have Won\n"
     ]
    }
   ],
   "source": [
    "rock = '''\n",
    "    _______\n",
    "---'   ____)\n",
    "      (_____)\n",
    "      (_____)\n",
    "      (____)\n",
    "---.__(___)\n",
    "'''\n",
    "\n",
    "paper = '''\n",
    "    _______\n",
    "---'   ____)____\n",
    "          ______)\n",
    "          _______)\n",
    "         _______)\n",
    "---.__________)\n",
    "'''\n",
    "\n",
    "scissors = '''\n",
    "    _______\n",
    "---'   ____)____\n",
    "          ______)\n",
    "       __________)\n",
    "      (____)\n",
    "---.__(___)\n",
    "'''\n",
    "\n",
    "import random \n",
    "human_choice = int(input(\"What do you choose? Type 0 for Rock, 1 for Paper or 2 for Scissors.\"))\n",
    "game = [rock, paper, scissors]\n",
    "if human_choice >= 3 or human_choice<0: \n",
    "    print(\"you have put an invalid number, please chose the number between 0,1,2 only\")\n",
    "else:\n",
    "    print(game[human_choice])\n",
    "    computer_choice  = int(random.randint(0,2))\n",
    "    print('computer chose:')\n",
    "    print(game[computer_choice])\n",
    "\n",
    "\n",
    "    if human_choice ==0 and computer_choice == 2:\n",
    "        print(\"you have won\")\n",
    "    elif human_choice ==2 and computer_choice == 0:\n",
    "        print(\"Computer have won\")\n",
    "    elif human_choice < computer_choice:\n",
    "        print(\"computer have won\")\n",
    "    elif human_choice > computer_choice:\n",
    "        \n",
    "        print(\"you have Won\")\n",
    "    elif human_choice == computer_choice:\n",
    "        print(\"This is a draw\")\n"
   ]
  },
  {
   "cell_type": "code",
   "execution_count": null,
   "id": "b9059d7b-c931-4954-94a4-ad35ff90f9b5",
   "metadata": {},
   "outputs": [],
   "source": []
  }
 ],
 "metadata": {
  "kernelspec": {
   "display_name": "Python 3 (ipykernel)",
   "language": "python",
   "name": "python3"
  },
  "language_info": {
   "codemirror_mode": {
    "name": "ipython",
    "version": 3
   },
   "file_extension": ".py",
   "mimetype": "text/x-python",
   "name": "python",
   "nbconvert_exporter": "python",
   "pygments_lexer": "ipython3",
   "version": "3.9.7"
  }
 },
 "nbformat": 4,
 "nbformat_minor": 5
}
