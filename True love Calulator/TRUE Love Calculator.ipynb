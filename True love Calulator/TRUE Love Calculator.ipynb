{
 "cells": [
  {
   "cell_type": "code",
   "execution_count": 5,
   "id": "0aeda326-f938-4166-abd2-59211515472c",
   "metadata": {},
   "outputs": [
    {
     "name": "stdout",
     "output_type": "stream",
     "text": [
      "Welcome to the Love Calculator!\n"
     ]
    },
    {
     "name": "stdin",
     "output_type": "stream",
     "text": [
      "What is your name? \n",
      " FM hasib\n",
      "What is their name? \n",
      " Rifat are putli\n"
     ]
    },
    {
     "name": "stdout",
     "output_type": "stream",
     "text": [
      "Your score is 62, you are compatible together.\n"
     ]
    }
   ],
   "source": [
    "# love score project\n",
    "print(\"Welcome to the Love Calculator!\")\n",
    "name1 = input(\"What is your name? \\n\")\n",
    "name2 = input(\"What is their name? \\n\")\n",
    "\n",
    "Combined_name = name1 + name2\n",
    "Lower_string = Combined_name.lower()\n",
    "\n",
    "# we find the how many times they have been counted for\n",
    "\n",
    "# True \n",
    "t = Lower_string.count(\"t\")\n",
    "r = Lower_string.count(\"r\")\n",
    "u = Lower_string.count(\"u\")\n",
    "e = Lower_string.count(\"e\")\n",
    "# love \n",
    "l = Lower_string.count(\"l\")\n",
    "o = Lower_string.count(\"o\")\n",
    "v = Lower_string.count(\"v\")\n",
    "e = Lower_string.count(\"e\")\n",
    "\n",
    "\n",
    "true_love = str(t+r+u+e)+str(l+o+v+e)\n",
    "true_love1= int(true_love)\n",
    "\n",
    "if true_love1 <10 or true_love1> 90:\n",
    "    print(f\"Your score is {true_love1}, you go together like coke and mentos.\")\n",
    "elif true_love1>=40 and true_love1 <=50:\n",
    "    print(f\"Your score is {true_love1}, you are alright together.\")\n",
    "elif true_love1>=30 and true_love1 <=39:\n",
    "    print(f\"Your score is {true_love1}, you are alright together.\")\n",
    "elif true_love1>=50 and true_love1 <=89:\n",
    "    print(f\"Your score is {true_love1}, you are compatible together.\")    \n",
    "else:\n",
    "    print(f\"Your score is {true_love1}\")\n"
   ]
  },
  {
   "cell_type": "code",
   "execution_count": null,
   "id": "dd648437-2840-4247-8cae-46e15f2041d8",
   "metadata": {},
   "outputs": [],
   "source": []
  }
 ],
 "metadata": {
  "kernelspec": {
   "display_name": "Python 3 (ipykernel)",
   "language": "python",
   "name": "python3"
  },
  "language_info": {
   "codemirror_mode": {
    "name": "ipython",
    "version": 3
   },
   "file_extension": ".py",
   "mimetype": "text/x-python",
   "name": "python",
   "nbconvert_exporter": "python",
   "pygments_lexer": "ipython3",
   "version": "3.9.7"
  }
 },
 "nbformat": 4,
 "nbformat_minor": 5
}
