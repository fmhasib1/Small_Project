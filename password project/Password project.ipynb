{
 "cells": [
  {
   "cell_type": "markdown",
   "id": "18a1f8d3-d934-442d-8e0d-4a3bfc7241e2",
   "metadata": {},
   "source": [
    "# Password Generator "
   ]
  },
  {
   "cell_type": "code",
   "execution_count": null,
   "id": "b5cff564-bf66-493d-9efe-abe2f2fc59f6",
   "metadata": {},
   "outputs": [],
   "source": [
    "# A password generator is a software tool that creates random or customized passwords for users.\n",
    "# It helps users create stronger passwords that provide greater security for a given type of access."
   ]
  },
  {
   "cell_type": "code",
   "execution_count": 22,
   "id": "3a821052-d2c1-473a-a8dd-23673335e823",
   "metadata": {},
   "outputs": [
    {
     "name": "stdout",
     "output_type": "stream",
     "text": [
      "Welcome to the PyPassword Generator!\n"
     ]
    },
    {
     "name": "stdin",
     "output_type": "stream",
     "text": [
      "How many letters would you like in your password?\n",
      " 14\n",
      "How many symbols would you like?\n",
      " 14\n",
      "How many numbers would you like?\n",
      " 14\n"
     ]
    }
   ],
   "source": [
    "import random\n",
    "letters = ['a', 'b', 'c', 'd', 'e', 'f', 'g', 'h', 'i', 'j', 'k', 'l', 'm', 'n', 'o', 'p', 'q', 'r', 's', 't', 'u', 'v', 'w', 'x', 'y', 'z', 'A', 'B', 'C', 'D', 'E', 'F', 'G', 'H', 'I', 'J', 'K', 'L', 'M', 'N', 'O', 'P', 'Q', 'R', 'S', 'T', 'U', 'V', 'W', 'X', 'Y', 'Z']\n",
    "numbers = ['0', '1', '2', '3', '4', '5', '6', '7', '8', '9']\n",
    "symbols = ['!', '#', '$', '%', '&', '(', ')', '*', '+']\n",
    "\n",
    "print(\"Welcome to the PyPassword Generator!\")\n",
    "nr_letters= int(input(\"How many letters would you like in your password?\\n\")) \n",
    "nr_symbols = int(input(f\"How many symbols would you like?\\n\"))\n",
    "nr_numbers = int(input(f\"How many numbers would you like?\\n\"))\n"
   ]
  },
  {
   "cell_type": "code",
   "execution_count": 23,
   "id": "526ed9b5-41c7-4671-b0b0-da89e651c55f",
   "metadata": {},
   "outputs": [
    {
     "name": "stdout",
     "output_type": "stream",
     "text": [
      "Dmc7A***1&$*5M9E6(8(s0%v2A621kf1Q&sS$+$0%9\n"
     ]
    }
   ],
   "source": [
    "x = []\n",
    "for letter in range (1 , nr_letters+1):\n",
    "    z = random.choice(letters)\n",
    "    x += z\n",
    "   \n",
    "\n",
    "for symbol in range( 1, nr_symbols +1):\n",
    "    k = random.choice(symbols)\n",
    "    x += k\n",
    "  \n",
    "\n",
    "for number  in range( 1, nr_numbers +1):\n",
    "    q = random.choice(numbers)\n",
    "    x += q\n",
    "    \n",
    "u = \"\"\n",
    "random.shuffle(x)\n",
    "for password in x:\n",
    "    u += password\n",
    "print(u)"
   ]
  },
  {
   "cell_type": "code",
   "execution_count": null,
   "id": "17dc2a1a-eb55-4075-9ebd-91320b84b529",
   "metadata": {},
   "outputs": [],
   "source": []
  },
  {
   "cell_type": "code",
   "execution_count": null,
   "id": "3d7dda90-4e57-4213-9da7-a05f170ffe27",
   "metadata": {},
   "outputs": [],
   "source": []
  },
  {
   "cell_type": "code",
   "execution_count": null,
   "id": "ee15e260-586b-430d-9926-1a608b3f3477",
   "metadata": {},
   "outputs": [],
   "source": []
  },
  {
   "cell_type": "code",
   "execution_count": null,
   "id": "ae3472bd-5ae4-4543-8d68-bad905fb761d",
   "metadata": {},
   "outputs": [],
   "source": []
  },
  {
   "cell_type": "code",
   "execution_count": null,
   "id": "73df2d18-5c2b-4aaf-a7ef-3865d4adcac3",
   "metadata": {},
   "outputs": [],
   "source": []
  }
 ],
 "metadata": {
  "kernelspec": {
   "display_name": "Python 3 (ipykernel)",
   "language": "python",
   "name": "python3"
  },
  "language_info": {
   "codemirror_mode": {
    "name": "ipython",
    "version": 3
   },
   "file_extension": ".py",
   "mimetype": "text/x-python",
   "name": "python",
   "nbconvert_exporter": "python",
   "pygments_lexer": "ipython3",
   "version": "3.9.7"
  }
 },
 "nbformat": 4,
 "nbformat_minor": 5
}
