{
 "cells": [
  {
   "cell_type": "markdown",
   "id": "37ce7e4f-38fe-405c-9915-e81a3f6b3dda",
   "metadata": {},
   "source": [
    "# Bill roulette \n",
    "We have a group of individiual whom went out for dinner. \n",
    "Amongst them a random individual will be paying the whole bill. \n",
    "\n"
   ]
  },
  {
   "cell_type": "code",
   "execution_count": 1,
   "id": "2f4ccbcb-7d46-4471-a488-a2df06b72acd",
   "metadata": {},
   "outputs": [
    {
     "name": "stdin",
     "output_type": "stream",
     "text": [
      "Give me everybody's names, separated by a comma.  liam, george, cassey, noel, nelson, katherine, alismel, najee \n"
     ]
    }
   ],
   "source": [
    "names_string = input(\"Give me everybody's names, separated by a comma. \")\n",
    "names = names_string.split(\", \")"
   ]
  },
  {
   "cell_type": "code",
   "execution_count": 8,
   "id": "c1baa90c-7155-4e12-b720-cd345cf53bb2",
   "metadata": {},
   "outputs": [
    {
     "name": "stdout",
     "output_type": "stream",
     "text": [
      "The person who will pay the bill is noel, please give your credit or debit card to the waitress.\n"
     ]
    }
   ],
   "source": [
    "import random \n",
    "location_of_the_name = random.randint(0,(len(names)-1))\n",
    "person_will_pay = names[location_of_the_name]\n",
    "print(f'The person who will pay the bill is {person_will_pay}, please give your credit or debit card to the waitress.')"
   ]
  },
  {
   "cell_type": "code",
   "execution_count": null,
   "id": "c13dfc83-c96b-4772-9f1e-7b38ab8d7f6a",
   "metadata": {},
   "outputs": [],
   "source": []
  }
 ],
 "metadata": {
  "kernelspec": {
   "display_name": "Python 3 (ipykernel)",
   "language": "python",
   "name": "python3"
  },
  "language_info": {
   "codemirror_mode": {
    "name": "ipython",
    "version": 3
   },
   "file_extension": ".py",
   "mimetype": "text/x-python",
   "name": "python",
   "nbconvert_exporter": "python",
   "pygments_lexer": "ipython3",
   "version": "3.9.7"
  }
 },
 "nbformat": 4,
 "nbformat_minor": 5
}
