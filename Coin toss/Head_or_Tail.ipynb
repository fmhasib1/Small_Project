{
 "cells": [
  {
   "cell_type": "code",
   "execution_count": 1,
   "id": "9498d7e5-efea-4eb4-b7dd-586f88546202",
   "metadata": {},
   "outputs": [],
   "source": [
    "# Head or tail project \n",
    "import random"
   ]
  },
  {
   "cell_type": "code",
   "execution_count": 24,
   "id": "8285017c-34cc-42ea-b5b5-68346db9b13b",
   "metadata": {},
   "outputs": [
    {
     "name": "stdout",
     "output_type": "stream",
     "text": [
      "0\n",
      "The value is head\n"
     ]
    }
   ],
   "source": [
    "# In order to complete this game we will first create a function called flipCoin() to flip a coin and return the value “Heads” or “Tails”.\n",
    "# We Will give 0 value as Head and 1 as tail. \n",
    "random_side = random.randint(0,1)\n",
    "print(random_side)\n",
    "\n",
    "if random_side == 0:\n",
    "    print(\"The value is head\")  \n",
    "else:\n",
    "    print(\"The value is Tail\")\n"
   ]
  },
  {
   "cell_type": "code",
   "execution_count": null,
   "id": "d7d76a90-fb94-4b38-adff-027e7f80fd64",
   "metadata": {},
   "outputs": [],
   "source": []
  },
  {
   "cell_type": "code",
   "execution_count": null,
   "id": "1b213d5b-75ff-46e4-a40c-4d8b33df2282",
   "metadata": {},
   "outputs": [],
   "source": []
  },
  {
   "cell_type": "code",
   "execution_count": null,
   "id": "3edd0901-6292-4633-8b99-a7ee6d5b4d05",
   "metadata": {},
   "outputs": [],
   "source": []
  },
  {
   "cell_type": "code",
   "execution_count": null,
   "id": "55e4f859-c6f3-4d9d-b0ef-d6f681300d8a",
   "metadata": {},
   "outputs": [],
   "source": []
  },
  {
   "cell_type": "code",
   "execution_count": null,
   "id": "52141c7b-c705-4527-a13f-299ecf95b64a",
   "metadata": {},
   "outputs": [],
   "source": []
  },
  {
   "cell_type": "code",
   "execution_count": null,
   "id": "ba33d1ca-78a7-475c-a853-2f301379cd8a",
   "metadata": {},
   "outputs": [],
   "source": []
  }
 ],
 "metadata": {
  "kernelspec": {
   "display_name": "Python 3 (ipykernel)",
   "language": "python",
   "name": "python3"
  },
  "language_info": {
   "codemirror_mode": {
    "name": "ipython",
    "version": 3
   },
   "file_extension": ".py",
   "mimetype": "text/x-python",
   "name": "python",
   "nbconvert_exporter": "python",
   "pygments_lexer": "ipython3",
   "version": "3.9.7"
  }
 },
 "nbformat": 4,
 "nbformat_minor": 5
}
