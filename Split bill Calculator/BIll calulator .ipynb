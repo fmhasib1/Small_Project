{
 "cells": [
  {
   "cell_type": "code",
   "execution_count": 1,
   "id": "32c80dc8-a6f0-4ec9-b799-39bd3c4aba93",
   "metadata": {},
   "outputs": [
    {
     "name": "stdin",
     "output_type": "stream",
     "text": [
      "what is your total bill 120\n",
      "what percentage of bill would you like to give as a tip 25\n",
      "How many people to split the bill 5\n"
     ]
    },
    {
     "name": "stdout",
     "output_type": "stream",
     "text": [
      "each person should pay 30.0\n"
     ]
    }
   ],
   "source": [
    "# Bill calculator \n",
    "x = float(input(\"what is your total bill\"))\n",
    "y = int(input(\"what percentage of bill would you like to give as a tip\"))\n",
    "z = int(input(\"How many people to split the bill\"))\n",
    "        \n",
    "a = round((x/z)*(1+(y/100)),2)\n",
    "\n",
    "print(f'each person should pay {a}')"
   ]
  },
  {
   "cell_type": "code",
   "execution_count": null,
   "id": "dd4d2273-4e12-40a8-8b79-7848af13b10e",
   "metadata": {},
   "outputs": [],
   "source": []
  }
 ],
 "metadata": {
  "kernelspec": {
   "display_name": "Python 3 (ipykernel)",
   "language": "python",
   "name": "python3"
  },
  "language_info": {
   "codemirror_mode": {
    "name": "ipython",
    "version": 3
   },
   "file_extension": ".py",
   "mimetype": "text/x-python",
   "name": "python",
   "nbconvert_exporter": "python",
   "pygments_lexer": "ipython3",
   "version": "3.9.7"
  }
 },
 "nbformat": 4,
 "nbformat_minor": 5
}
