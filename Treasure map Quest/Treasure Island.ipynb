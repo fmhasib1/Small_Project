{
 "cells": [
  {
   "cell_type": "code",
   "execution_count": 1,
   "id": "95957f01-0e23-4a88-ae14-4daf2fb8b9c4",
   "metadata": {},
   "outputs": [
    {
     "name": "stdout",
     "output_type": "stream",
     "text": [
      "\n",
      "*******************************************************************************\n",
      "          |                   |                  |                     |\n",
      " _________|________________.=\"\"_;=.______________|_____________________|_______\n",
      "|                   |  ,-\"_,=\"\"     `\"=.|                  |\n",
      "|___________________|__\"=._o`\"-._        `\"=.______________|___________________\n",
      "          |                `\"=._o`\"=._      _`\"=._                     |\n",
      " _________|_____________________:=._o \"=._.\"_.-=\"'\"=.__________________|_______\n",
      "|                   |    __.--\" , ; `\"=._o.\" ,-\"\"\"-._ \".   |\n",
      "|___________________|_._\"  ,. .` ` `` ,  `\"-._\"-._   \". '__|___________________\n",
      "          |           |o`\"=._` , \"` `; .\". ,  \"-._\"-._; ;              |\n",
      " _________|___________| ;`-.o`\"=._; .\" ` '`.\"\\` . \"-._ /_______________|_______\n",
      "|                   | |o;    `\"-.o`\"=._``  '` \" ,__.--o;   |\n",
      "|___________________|_| ;     (#) `-.o `\"=.`_.--\"_o.-; ;___|___________________\n",
      "____/______/______/___|o;._    \"      `\".o|o_.--\"    ;o;____/______/______/____\n",
      "/______/______/______/_\"=._o--._        ; | ;        ; ;/______/______/______/_\n",
      "____/______/______/______/__\"=._o--._   ;o|o;     _._;o;____/______/______/____\n",
      "/______/______/______/______/____\"=._o._; | ;_.--\"o.--\"_/______/______/______/_\n",
      "____/______/______/______/______/_____\"=.o|o_.--\"\"___/______/______/______/____\n",
      "/______/______/______/______/______/______/______/______/______/______/_____ /\n",
      "*******************************************************************************\n",
      "\n",
      "Welcome to Treasure Island.\n",
      "Your mission is to find the treasure.\n",
      "Welcome to the tresure island\n"
     ]
    },
    {
     "name": "stdin",
     "output_type": "stream",
     "text": [
      "you are at a cross road, please chose either LEFT OR RIGHT Left\n"
     ]
    },
    {
     "name": "stdout",
     "output_type": "stream",
     "text": [
      "you have died come back in the next life loser\n"
     ]
    }
   ],
   "source": [
    "print('''\n",
    "*******************************************************************************\n",
    "          |                   |                  |                     |\n",
    " _________|________________.=\"\"_;=.______________|_____________________|_______\n",
    "|                   |  ,-\"_,=\"\"     `\"=.|                  |\n",
    "|___________________|__\"=._o`\"-._        `\"=.______________|___________________\n",
    "          |                `\"=._o`\"=._      _`\"=._                     |\n",
    " _________|_____________________:=._o \"=._.\"_.-=\"'\"=.__________________|_______\n",
    "|                   |    __.--\" , ; `\"=._o.\" ,-\"\"\"-._ \".   |\n",
    "|___________________|_._\"  ,. .` ` `` ,  `\"-._\"-._   \". '__|___________________\n",
    "          |           |o`\"=._` , \"` `; .\". ,  \"-._\"-._; ;              |\n",
    " _________|___________| ;`-.o`\"=._; .\" ` '`.\"\\` . \"-._ /_______________|_______\n",
    "|                   | |o;    `\"-.o`\"=._``  '` \" ,__.--o;   |\n",
    "|___________________|_| ;     (#) `-.o `\"=.`_.--\"_o.-; ;___|___________________\n",
    "____/______/______/___|o;._    \"      `\".o|o_.--\"    ;o;____/______/______/____\n",
    "/______/______/______/_\"=._o--._        ; | ;        ; ;/______/______/______/_\n",
    "____/______/______/______/__\"=._o--._   ;o|o;     _._;o;____/______/______/____\n",
    "/______/______/______/______/____\"=._o._; | ;_.--\"o.--\"_/______/______/______/_\n",
    "____/______/______/______/______/_____\"=.o|o_.--\"\"___/______/______/______/____\n",
    "/______/______/______/______/______/______/______/______/______/______/_____ /\n",
    "*******************************************************************************\n",
    "''')\n",
    "print(\"Welcome to Treasure Island.\")\n",
    "print(\"Your mission is to find the treasure.\") \n",
    "\n",
    "print('Welcome to the tresure island')\n",
    "left_or_right = input(\"you are at a cross road, please chose either LEFT OR RIGHT\")\n",
    "\n",
    "if left_or_right == \"LEFT\":\n",
    "    print(\"You have survived now you have to make the next decision where there is a river infront of you\")\n",
    "    swim_or_wait= input(\"Do you want to go for a swim or wait for a boat to come\") \n",
    "    if swim_or_wait ==\"WAIT\":\n",
    "        print(\"YOU have survived now the next decision where you have to pick the right door color YELLOW, GREEN, RED\")\n",
    "        Door = input(\"WHICH door do you pick\")\n",
    "        if Door == \"YELLOW\":\n",
    "            print(\"you have survived and one a million dollar\")\n",
    "        elif Door == \"GREEN\":\n",
    "            print(\"you have green savoury treat as a consulation price but no money cuz you are broke\")\n",
    "        else: \n",
    "            \n",
    "            print(\"you are stuck in a room with 3 month hungry lion\")\n",
    "    else: \n",
    "        print(\"WHY you have drowned in the river\")\n",
    "        \n",
    "else: \n",
    "    print(\"you have died come back in the next life loser\")"
   ]
  },
  {
   "cell_type": "code",
   "execution_count": null,
   "id": "f38495ce-43fb-4dc6-8847-0ccb72573ed4",
   "metadata": {},
   "outputs": [],
   "source": []
  },
  {
   "cell_type": "code",
   "execution_count": null,
   "id": "9263a8e2-f703-4e46-b58f-c5be0ced777a",
   "metadata": {},
   "outputs": [],
   "source": []
  }
 ],
 "metadata": {
  "kernelspec": {
   "display_name": "Python 3 (ipykernel)",
   "language": "python",
   "name": "python3"
  },
  "language_info": {
   "codemirror_mode": {
    "name": "ipython",
    "version": 3
   },
   "file_extension": ".py",
   "mimetype": "text/x-python",
   "name": "python",
   "nbconvert_exporter": "python",
   "pygments_lexer": "ipython3",
   "version": "3.9.7"
  }
 },
 "nbformat": 4,
 "nbformat_minor": 5
}
